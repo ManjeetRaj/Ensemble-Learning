{
 "cells": [
  {
   "cell_type": "code",
   "execution_count": 1,
   "metadata": {},
   "outputs": [],
   "source": [
    "from IPython.core.interactiveshell import InteractiveShell\n",
    "InteractiveShell.ast_node_interactivity = \"all\"\n",
    "%matplotlib inline\n",
    "#http://scikit-learn.org/stable/modules/ensemble.html"
   ]
  },
  {
   "cell_type": "markdown",
   "metadata": {},
   "source": [
    "# Bagging "
   ]
  },
  {
   "cell_type": "code",
   "execution_count": 2,
   "metadata": {},
   "outputs": [],
   "source": [
    "from csv import reader\n",
    "import numpy as np\n",
    "import pandas as pd\n",
    "from sklearn.ensemble import BaggingClassifier\n",
    "from sklearn.neighbors import KNeighborsClassifier\n",
    "from sklearn.tree import DecisionTreeClassifier\n",
    "from sklearn.model_selection import cross_val_score"
   ]
  },
  {
   "cell_type": "code",
   "execution_count": 3,
   "metadata": {},
   "outputs": [],
   "source": [
    "#Task is to train a network to discriminate between sonar signals bounced\n",
    "#off a metal cylinder and those bounced off a roughly cylindrical rock."
   ]
  },
  {
   "cell_type": "code",
   "execution_count": 4,
   "metadata": {},
   "outputs": [
    {
     "data": {
      "text/plain": [
       "60"
      ]
     },
     "execution_count": 4,
     "metadata": {},
     "output_type": "execute_result"
    },
    {
     "data": {
      "text/plain": [
       "(208, 60)"
      ]
     },
     "execution_count": 4,
     "metadata": {},
     "output_type": "execute_result"
    },
    {
     "data": {
      "text/plain": [
       "(208,)"
      ]
     },
     "execution_count": 4,
     "metadata": {},
     "output_type": "execute_result"
    }
   ],
   "source": [
    "filename = \"data/sonar.all-data.txt\"\n",
    "dataset = pd.read_csv(filename,header=None).values\n",
    "lastColumn = len(dataset[0])-1\n",
    "lastColumn\n",
    "\n",
    "n_folds = 5\n",
    "max_depth = 6\n",
    "\n",
    "x = np.zeros((len(dataset),len(dataset[0])-1)) #we are creating 208x60 size zero matrix\n",
    "x.shape\n",
    "y = np.zeros(len(dataset)) #we are creating 208x1 size zero matrix\n",
    "y.shape\n",
    "\n",
    "# convert class column to integers\n",
    "dataset[:,lastColumn] = [0 if row[lastColumn]=='M' else 1 for row in dataset]\n",
    "\n",
    "#now let's seperate the label and class part into x and y\n",
    "for i in range(0,len(dataset)):\n",
    "    x[i,:] = dataset[i][0:len(dataset[0])-1]\n",
    "    y[i] = dataset[i][len(dataset[0])-1]\n"
   ]
  },
  {
   "cell_type": "code",
   "execution_count": 6,
   "metadata": {},
   "outputs": [
    {
     "name": "stdout",
     "output_type": "stream",
     "text": [
      "Trees: 1\n",
      "Scores: [0.60465116 0.45238095 0.68292683 0.68292683 0.68292683]\n",
      "Mean Accuracy: 62.116252%\n",
      "KNN: 1\n",
      "Scores: [0.62790698 0.54761905 0.48780488 0.56097561 0.2195122 ]\n",
      "Mean Accuracy: 48.876374%\n",
      "Trees: 5\n",
      "Scores: [0.48837209 0.66666667 0.7804878  0.80487805 0.56097561]\n",
      "Mean Accuracy: 66.027604%\n",
      "KNN: 5\n",
      "Scores: [0.55813953 0.61904762 0.53658537 0.6097561  0.29268293]\n",
      "Mean Accuracy: 52.324231%\n",
      "Trees: 10\n",
      "Scores: [0.48837209 0.71428571 0.65853659 0.87804878 0.68292683]\n",
      "Mean Accuracy: 68.443400%\n",
      "KNN: 10\n",
      "Scores: [0.51162791 0.5952381  0.58536585 0.51219512 0.26829268]\n",
      "Mean Accuracy: 49.454393%\n",
      "Trees: 50\n",
      "Scores: [0.55813953 0.54761905 0.63414634 0.7804878  0.73170732]\n",
      "Mean Accuracy: 65.042001%\n",
      "KNN: 50\n",
      "Scores: [0.53488372 0.64285714 0.51219512 0.58536585 0.29268293]\n",
      "Mean Accuracy: 51.359695%\n"
     ]
    }
   ],
   "source": [
    "n_folds = 5\n",
    "for n_est in [1,5,10,50]:\n",
    "    clf1 = BaggingClassifier(DecisionTreeClassifier(),n_estimators=n_est)\n",
    "    scores = cross_val_score(clf1, x, y, cv=n_folds, scoring='accuracy')\n",
    "    print('Trees: %d' % n_est)\n",
    "    print('Scores: %s' % scores)\n",
    "    print('Mean Accuracy: {:3f}%'.format(np.mean(scores)*100))\n",
    "    \n",
    "    clf2 = BaggingClassifier(KNeighborsClassifier(),n_estimators = n_est)\n",
    "    scores = cross_val_score(clf2, x, y, cv=n_folds, scoring='accuracy')\n",
    "    print('KNN: %d' % n_est)\n",
    "    print('Scores: %s' % scores)\n",
    "    print('Mean Accuracy: {:3f}%'.format(np.mean(scores)*100))"
   ]
  },
  {
   "cell_type": "code",
   "execution_count": null,
   "metadata": {},
   "outputs": [],
   "source": []
  },
  {
   "cell_type": "code",
   "execution_count": null,
   "metadata": {},
   "outputs": [],
   "source": []
  },
  {
   "cell_type": "code",
   "execution_count": null,
   "metadata": {},
   "outputs": [],
   "source": []
  }
 ],
 "metadata": {
  "kernelspec": {
   "display_name": "Python 3",
   "language": "python",
   "name": "python3"
  },
  "language_info": {
   "codemirror_mode": {
    "name": "ipython",
    "version": 3
   },
   "file_extension": ".py",
   "mimetype": "text/x-python",
   "name": "python",
   "nbconvert_exporter": "python",
   "pygments_lexer": "ipython3",
   "version": "3.6.6"
  }
 },
 "nbformat": 4,
 "nbformat_minor": 2
}
